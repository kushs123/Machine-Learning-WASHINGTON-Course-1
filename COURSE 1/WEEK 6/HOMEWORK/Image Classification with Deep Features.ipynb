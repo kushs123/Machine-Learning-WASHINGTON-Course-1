{
 "cells": [
  {
   "cell_type": "code",
   "execution_count": 1,
   "metadata": {
    "collapsed": true
   },
   "outputs": [],
   "source": [
    "import graphlab"
   ]
  },
  {
   "cell_type": "markdown",
   "metadata": {},
   "source": [
    "# Load a common image data analysis dataset"
   ]
  },
  {
   "cell_type": "code",
   "execution_count": 3,
   "metadata": {
    "collapsed": false
   },
   "outputs": [
    {
     "name": "stdout",
     "output_type": "stream",
     "text": [
      "This non-commercial license of GraphLab Create for academic use is assigned to 500055844@stu.upes.ac.in and will expire on June 12, 2019.\n"
     ]
    },
    {
     "name": "stderr",
     "output_type": "stream",
     "text": [
      "[INFO] graphlab.cython.cy_server: GraphLab Create v2.1 started. Logging: C:\\Users\\ROHIT\\AppData\\Local\\Temp\\graphlab_server_1529129247.log.0\n"
     ]
    }
   ],
   "source": [
    "image_train=graphlab.SFrame('C:\\Users\\ROHIT\\Desktop\\MACHINE LEARNING\\COURSE 1\\WEEK 6\\DATA\\Week 6\\image_train_data')\n",
    "image_test=graphlab.SFrame('C:\\Users\\ROHIT\\Desktop\\MACHINE LEARNING\\COURSE 1\\WEEK 6\\DATA\\Week 6\\image_test_data')"
   ]
  },
  {
   "cell_type": "markdown",
   "metadata": {},
   "source": [
    "# Exploring the Image Data"
   ]
  },
  {
   "cell_type": "code",
   "execution_count": 8,
   "metadata": {
    "collapsed": true
   },
   "outputs": [],
   "source": [
    "graphlab.canvas.set_target('browser')"
   ]
  },
  {
   "cell_type": "code",
   "execution_count": 9,
   "metadata": {
    "collapsed": false
   },
   "outputs": [
    {
     "name": "stdout",
     "output_type": "stream",
     "text": [
      "Canvas is accessible via web browser at the URL: http://localhost:65534/index.html\n",
      "Opening Canvas in default web browser.\n"
     ]
    }
   ],
   "source": [
    "image_train.show()"
   ]
  },
  {
   "cell_type": "markdown",
   "metadata": {},
   "source": [
    "# Train a classifier on the raw image pixels"
   ]
  },
  {
   "cell_type": "code",
   "execution_count": 10,
   "metadata": {
    "collapsed": false
   },
   "outputs": [
    {
     "name": "stdout",
     "output_type": "stream",
     "text": [
      "PROGRESS: Creating a validation set from 5 percent of training data. This may take a while.\n",
      "          You can set ``validation_set=None`` to disable validation tracking.\n",
      "\n"
     ]
    },
    {
     "data": {
      "text/html": [
       "<pre>WARNING: The number of feature dimensions in this problem is very large in comparison with the number of examples. Unless an appropriate regularization value is set, this model may not provide accurate predictions for a validation/test set.</pre>"
      ],
      "text/plain": [
       "WARNING: The number of feature dimensions in this problem is very large in comparison with the number of examples. Unless an appropriate regularization value is set, this model may not provide accurate predictions for a validation/test set."
      ]
     },
     "metadata": {},
     "output_type": "display_data"
    },
    {
     "data": {
      "text/html": [
       "<pre>Logistic regression:</pre>"
      ],
      "text/plain": [
       "Logistic regression:"
      ]
     },
     "metadata": {},
     "output_type": "display_data"
    },
    {
     "data": {
      "text/html": [
       "<pre>--------------------------------------------------------</pre>"
      ],
      "text/plain": [
       "--------------------------------------------------------"
      ]
     },
     "metadata": {},
     "output_type": "display_data"
    },
    {
     "data": {
      "text/html": [
       "<pre>Number of examples          : 1911</pre>"
      ],
      "text/plain": [
       "Number of examples          : 1911"
      ]
     },
     "metadata": {},
     "output_type": "display_data"
    },
    {
     "data": {
      "text/html": [
       "<pre>Number of classes           : 4</pre>"
      ],
      "text/plain": [
       "Number of classes           : 4"
      ]
     },
     "metadata": {},
     "output_type": "display_data"
    },
    {
     "data": {
      "text/html": [
       "<pre>Number of feature columns   : 1</pre>"
      ],
      "text/plain": [
       "Number of feature columns   : 1"
      ]
     },
     "metadata": {},
     "output_type": "display_data"
    },
    {
     "data": {
      "text/html": [
       "<pre>Number of unpacked features : 3072</pre>"
      ],
      "text/plain": [
       "Number of unpacked features : 3072"
      ]
     },
     "metadata": {},
     "output_type": "display_data"
    },
    {
     "data": {
      "text/html": [
       "<pre>Number of coefficients    : 9219</pre>"
      ],
      "text/plain": [
       "Number of coefficients    : 9219"
      ]
     },
     "metadata": {},
     "output_type": "display_data"
    },
    {
     "data": {
      "text/html": [
       "<pre>Starting L-BFGS</pre>"
      ],
      "text/plain": [
       "Starting L-BFGS"
      ]
     },
     "metadata": {},
     "output_type": "display_data"
    },
    {
     "data": {
      "text/html": [
       "<pre>--------------------------------------------------------</pre>"
      ],
      "text/plain": [
       "--------------------------------------------------------"
      ]
     },
     "metadata": {},
     "output_type": "display_data"
    },
    {
     "data": {
      "text/html": [
       "<pre>+-----------+----------+-----------+--------------+-------------------+---------------------+</pre>"
      ],
      "text/plain": [
       "+-----------+----------+-----------+--------------+-------------------+---------------------+"
      ]
     },
     "metadata": {},
     "output_type": "display_data"
    },
    {
     "data": {
      "text/html": [
       "<pre>| Iteration | Passes   | Step size | Elapsed Time | Training-accuracy | Validation-accuracy |</pre>"
      ],
      "text/plain": [
       "| Iteration | Passes   | Step size | Elapsed Time | Training-accuracy | Validation-accuracy |"
      ]
     },
     "metadata": {},
     "output_type": "display_data"
    },
    {
     "data": {
      "text/html": [
       "<pre>+-----------+----------+-----------+--------------+-------------------+---------------------+</pre>"
      ],
      "text/plain": [
       "+-----------+----------+-----------+--------------+-------------------+---------------------+"
      ]
     },
     "metadata": {},
     "output_type": "display_data"
    },
    {
     "data": {
      "text/html": [
       "<pre>| 1         | 6        | 0.000014  | 3.799756     | 0.310309          | 0.308511            |</pre>"
      ],
      "text/plain": [
       "| 1         | 6        | 0.000014  | 3.799756     | 0.310309          | 0.308511            |"
      ]
     },
     "metadata": {},
     "output_type": "display_data"
    },
    {
     "data": {
      "text/html": [
       "<pre>| 2         | 8        | 1.000000  | 5.003026     | 0.378859          | 0.351064            |</pre>"
      ],
      "text/plain": [
       "| 2         | 8        | 1.000000  | 5.003026     | 0.378859          | 0.351064            |"
      ]
     },
     "metadata": {},
     "output_type": "display_data"
    },
    {
     "data": {
      "text/html": [
       "<pre>| 3         | 9        | 1.000000  | 5.587092     | 0.413919          | 0.372340            |</pre>"
      ],
      "text/plain": [
       "| 3         | 9        | 1.000000  | 5.587092     | 0.413919          | 0.372340            |"
      ]
     },
     "metadata": {},
     "output_type": "display_data"
    },
    {
     "data": {
      "text/html": [
       "<pre>| 4         | 10       | 1.000000  | 6.289460     | 0.437467          | 0.414894            |</pre>"
      ],
      "text/plain": [
       "| 4         | 10       | 1.000000  | 6.289460     | 0.437467          | 0.414894            |"
      ]
     },
     "metadata": {},
     "output_type": "display_data"
    },
    {
     "data": {
      "text/html": [
       "<pre>| 5         | 12       | 1.000000  | 7.434504     | 0.450549          | 0.382979            |</pre>"
      ],
      "text/plain": [
       "| 5         | 12       | 1.000000  | 7.434504     | 0.450549          | 0.382979            |"
      ]
     },
     "metadata": {},
     "output_type": "display_data"
    },
    {
     "data": {
      "text/html": [
       "<pre>| 6         | 13       | 1.000000  | 8.118824     | 0.448456          | 0.382979            |</pre>"
      ],
      "text/plain": [
       "| 6         | 13       | 1.000000  | 8.118824     | 0.448456          | 0.382979            |"
      ]
     },
     "metadata": {},
     "output_type": "display_data"
    },
    {
     "data": {
      "text/html": [
       "<pre>| 10        | 17       | 1.000000  | 10.619900    | 0.507064          | 0.478723            |</pre>"
      ],
      "text/plain": [
       "| 10        | 17       | 1.000000  | 10.619900    | 0.507064          | 0.478723            |"
      ]
     },
     "metadata": {},
     "output_type": "display_data"
    },
    {
     "data": {
      "text/html": [
       "<pre>+-----------+----------+-----------+--------------+-------------------+---------------------+</pre>"
      ],
      "text/plain": [
       "+-----------+----------+-----------+--------------+-------------------+---------------------+"
      ]
     },
     "metadata": {},
     "output_type": "display_data"
    },
    {
     "data": {
      "text/html": [
       "<pre>TERMINATED: Iteration limit reached.</pre>"
      ],
      "text/plain": [
       "TERMINATED: Iteration limit reached."
      ]
     },
     "metadata": {},
     "output_type": "display_data"
    },
    {
     "data": {
      "text/html": [
       "<pre>This model may not be optimal. To improve it, consider increasing `max_iterations`.</pre>"
      ],
      "text/plain": [
       "This model may not be optimal. To improve it, consider increasing `max_iterations`."
      ]
     },
     "metadata": {},
     "output_type": "display_data"
    }
   ],
   "source": [
    "raw_pixel_model=graphlab.logistic_classifier.create(image_train,target='label',\n",
    "                                                   features=['image_array'])"
   ]
  },
  {
   "cell_type": "markdown",
   "metadata": {},
   "source": [
    "# Make a prediction with the simple model based on raw pixels"
   ]
  },
  {
   "cell_type": "code",
   "execution_count": 11,
   "metadata": {
    "collapsed": false
   },
   "outputs": [
    {
     "name": "stdout",
     "output_type": "stream",
     "text": [
      "Canvas is accessible via web browser at the URL: http://localhost:65534/index.html\n",
      "Opening Canvas in default web browser.\n"
     ]
    }
   ],
   "source": [
    "image_test[0:3]['image'].show()"
   ]
  },
  {
   "cell_type": "code",
   "execution_count": 14,
   "metadata": {
    "collapsed": false
   },
   "outputs": [
    {
     "data": {
      "text/plain": [
       "dtype: str\n",
       "Rows: 3\n",
       "['cat', 'automobile', 'cat']"
      ]
     },
     "execution_count": 14,
     "metadata": {},
     "output_type": "execute_result"
    }
   ],
   "source": [
    "image_test[0:3]['label']"
   ]
  },
  {
   "cell_type": "code",
   "execution_count": 15,
   "metadata": {
    "collapsed": false
   },
   "outputs": [
    {
     "data": {
      "text/plain": [
       "dtype: str\n",
       "Rows: 3\n",
       "['bird', 'cat', 'bird']"
      ]
     },
     "execution_count": 15,
     "metadata": {},
     "output_type": "execute_result"
    }
   ],
   "source": [
    "raw_pixel_model.predict(image_test[0:3])"
   ]
  },
  {
   "cell_type": "markdown",
   "metadata": {},
   "source": [
    "# Evaluating Raw Pixel Model on Tset Data"
   ]
  },
  {
   "cell_type": "code",
   "execution_count": 16,
   "metadata": {
    "collapsed": false
   },
   "outputs": [
    {
     "data": {
      "text/plain": [
       "{'accuracy': 0.47325, 'auc': 0.7193503333333361, 'confusion_matrix': Columns:\n",
       " \ttarget_label\tstr\n",
       " \tpredicted_label\tstr\n",
       " \tcount\tint\n",
       " \n",
       " Rows: 16\n",
       " \n",
       " Data:\n",
       " +--------------+-----------------+-------+\n",
       " | target_label | predicted_label | count |\n",
       " +--------------+-----------------+-------+\n",
       " |     bird     |       cat       |  144  |\n",
       " |  automobile  |       cat       |  123  |\n",
       " |     dog      |    automobile   |  149  |\n",
       " |     dog      |       dog       |  393  |\n",
       " |     cat      |       dog       |  278  |\n",
       " |     cat      |    automobile   |  224  |\n",
       " |     dog      |       bird      |  233  |\n",
       " |  automobile  |       dog       |   90  |\n",
       " |  automobile  |       bird      |   92  |\n",
       " |     bird     |       bird      |  498  |\n",
       " +--------------+-----------------+-------+\n",
       " [16 rows x 3 columns]\n",
       " Note: Only the head of the SFrame is printed.\n",
       " You can use print_rows(num_rows=m, num_columns=n) to print more rows and columns., 'f1_score': 0.4645473515528624, 'log_loss': 1.213728022319665, 'precision': 0.46279251781861797, 'recall': 0.47325, 'roc_curve': Columns:\n",
       " \tthreshold\tfloat\n",
       " \tfpr\tfloat\n",
       " \ttpr\tfloat\n",
       " \tp\tint\n",
       " \tn\tint\n",
       " \tclass\tint\n",
       " \n",
       " Rows: 400004\n",
       " \n",
       " Data:\n",
       " +-----------+-----+-----+------+------+-------+\n",
       " | threshold | fpr | tpr |  p   |  n   | class |\n",
       " +-----------+-----+-----+------+------+-------+\n",
       " |    0.0    | 1.0 | 1.0 | 1000 | 3000 |   0   |\n",
       " |   1e-05   | 1.0 | 1.0 | 1000 | 3000 |   0   |\n",
       " |   2e-05   | 1.0 | 1.0 | 1000 | 3000 |   0   |\n",
       " |   3e-05   | 1.0 | 1.0 | 1000 | 3000 |   0   |\n",
       " |   4e-05   | 1.0 | 1.0 | 1000 | 3000 |   0   |\n",
       " |   5e-05   | 1.0 | 1.0 | 1000 | 3000 |   0   |\n",
       " |   6e-05   | 1.0 | 1.0 | 1000 | 3000 |   0   |\n",
       " |   7e-05   | 1.0 | 1.0 | 1000 | 3000 |   0   |\n",
       " |   8e-05   | 1.0 | 1.0 | 1000 | 3000 |   0   |\n",
       " |   9e-05   | 1.0 | 1.0 | 1000 | 3000 |   0   |\n",
       " +-----------+-----+-----+------+------+-------+\n",
       " [400004 rows x 6 columns]\n",
       " Note: Only the head of the SFrame is printed.\n",
       " You can use print_rows(num_rows=m, num_columns=n) to print more rows and columns.}"
      ]
     },
     "execution_count": 16,
     "metadata": {},
     "output_type": "execute_result"
    }
   ],
   "source": [
    "raw_pixel_model.evaluate(image_test)"
   ]
  },
  {
   "cell_type": "markdown",
   "metadata": {},
   "source": [
    "# Can we improve the model using Deep Feature"
   ]
  },
  {
   "cell_type": "code",
   "execution_count": 17,
   "metadata": {
    "collapsed": false
   },
   "outputs": [
    {
     "data": {
      "text/plain": [
       "2005"
      ]
     },
     "execution_count": 17,
     "metadata": {},
     "output_type": "execute_result"
    }
   ],
   "source": [
    "len(image_train)"
   ]
  },
  {
   "cell_type": "code",
   "execution_count": null,
   "metadata": {
    "collapsed": true
   },
   "outputs": [],
   "source": [
    "deep_learning_model=graphlab.load_model('imagenet_model')\n",
    "image_train['deep_features']=deep_learning_model.extract_features(image_train)  #deep_features and image_array two columns \n",
    "                                                                                 #were computed by these two methods"
   ]
  },
  {
   "cell_type": "code",
   "execution_count": 18,
   "metadata": {
    "collapsed": false
   },
   "outputs": [
    {
     "data": {
      "text/html": [
       "<div style=\"max-height:1000px;max-width:1500px;overflow:auto;\"><table frame=\"box\" rules=\"cols\">\n",
       "    <tr>\n",
       "        <th style=\"padding-left: 1em; padding-right: 1em; text-align: center\">id</th>\n",
       "        <th style=\"padding-left: 1em; padding-right: 1em; text-align: center\">image</th>\n",
       "        <th style=\"padding-left: 1em; padding-right: 1em; text-align: center\">label</th>\n",
       "        <th style=\"padding-left: 1em; padding-right: 1em; text-align: center\">deep_features</th>\n",
       "        <th style=\"padding-left: 1em; padding-right: 1em; text-align: center\">image_array</th>\n",
       "    </tr>\n",
       "    <tr>\n",
       "        <td style=\"padding-left: 1em; padding-right: 1em; text-align: center; vertical-align: top\">24</td>\n",
       "        <td style=\"padding-left: 1em; padding-right: 1em; text-align: center; vertical-align: top\">Height: 32 Width: 32</td>\n",
       "        <td style=\"padding-left: 1em; padding-right: 1em; text-align: center; vertical-align: top\">bird</td>\n",
       "        <td style=\"padding-left: 1em; padding-right: 1em; text-align: center; vertical-align: top\">[0.242871761322,<br>1.09545373917, 0.0, ...</td>\n",
       "        <td style=\"padding-left: 1em; padding-right: 1em; text-align: center; vertical-align: top\">[73.0, 77.0, 58.0, 71.0,<br>68.0, 50.0, 77.0, 69.0, ...</td>\n",
       "    </tr>\n",
       "    <tr>\n",
       "        <td style=\"padding-left: 1em; padding-right: 1em; text-align: center; vertical-align: top\">33</td>\n",
       "        <td style=\"padding-left: 1em; padding-right: 1em; text-align: center; vertical-align: top\">Height: 32 Width: 32</td>\n",
       "        <td style=\"padding-left: 1em; padding-right: 1em; text-align: center; vertical-align: top\">cat</td>\n",
       "        <td style=\"padding-left: 1em; padding-right: 1em; text-align: center; vertical-align: top\">[0.525087952614, 0.0,<br>0.0, 0.0, 0.0, 0.0, ...</td>\n",
       "        <td style=\"padding-left: 1em; padding-right: 1em; text-align: center; vertical-align: top\">[7.0, 5.0, 8.0, 7.0, 5.0,<br>8.0, 5.0, 4.0, 6.0, 7.0, ...</td>\n",
       "    </tr>\n",
       "    <tr>\n",
       "        <td style=\"padding-left: 1em; padding-right: 1em; text-align: center; vertical-align: top\">36</td>\n",
       "        <td style=\"padding-left: 1em; padding-right: 1em; text-align: center; vertical-align: top\">Height: 32 Width: 32</td>\n",
       "        <td style=\"padding-left: 1em; padding-right: 1em; text-align: center; vertical-align: top\">cat</td>\n",
       "        <td style=\"padding-left: 1em; padding-right: 1em; text-align: center; vertical-align: top\">[0.566015958786, 0.0,<br>0.0, 0.0, 0.0, 0.0, ...</td>\n",
       "        <td style=\"padding-left: 1em; padding-right: 1em; text-align: center; vertical-align: top\">[169.0, 122.0, 65.0,<br>131.0, 108.0, 75.0, ...</td>\n",
       "    </tr>\n",
       "    <tr>\n",
       "        <td style=\"padding-left: 1em; padding-right: 1em; text-align: center; vertical-align: top\">70</td>\n",
       "        <td style=\"padding-left: 1em; padding-right: 1em; text-align: center; vertical-align: top\">Height: 32 Width: 32</td>\n",
       "        <td style=\"padding-left: 1em; padding-right: 1em; text-align: center; vertical-align: top\">dog</td>\n",
       "        <td style=\"padding-left: 1em; padding-right: 1em; text-align: center; vertical-align: top\">[1.12979578972, 0.0, 0.0,<br>0.778194487095, 0.0, ...</td>\n",
       "        <td style=\"padding-left: 1em; padding-right: 1em; text-align: center; vertical-align: top\">[154.0, 179.0, 152.0,<br>159.0, 183.0, 157.0, ...</td>\n",
       "    </tr>\n",
       "    <tr>\n",
       "        <td style=\"padding-left: 1em; padding-right: 1em; text-align: center; vertical-align: top\">90</td>\n",
       "        <td style=\"padding-left: 1em; padding-right: 1em; text-align: center; vertical-align: top\">Height: 32 Width: 32</td>\n",
       "        <td style=\"padding-left: 1em; padding-right: 1em; text-align: center; vertical-align: top\">bird</td>\n",
       "        <td style=\"padding-left: 1em; padding-right: 1em; text-align: center; vertical-align: top\">[1.71786928177, 0.0, 0.0,<br>0.0, 0.0, 0.0, ...</td>\n",
       "        <td style=\"padding-left: 1em; padding-right: 1em; text-align: center; vertical-align: top\">[216.0, 195.0, 180.0,<br>201.0, 178.0, 160.0, ...</td>\n",
       "    </tr>\n",
       "    <tr>\n",
       "        <td style=\"padding-left: 1em; padding-right: 1em; text-align: center; vertical-align: top\">97</td>\n",
       "        <td style=\"padding-left: 1em; padding-right: 1em; text-align: center; vertical-align: top\">Height: 32 Width: 32</td>\n",
       "        <td style=\"padding-left: 1em; padding-right: 1em; text-align: center; vertical-align: top\">automobile</td>\n",
       "        <td style=\"padding-left: 1em; padding-right: 1em; text-align: center; vertical-align: top\">[1.57818555832, 0.0, 0.0,<br>0.0, 0.0, 0.0, ...</td>\n",
       "        <td style=\"padding-left: 1em; padding-right: 1em; text-align: center; vertical-align: top\">[33.0, 44.0, 27.0, 29.0,<br>44.0, 31.0, 32.0, 45.0, ...</td>\n",
       "    </tr>\n",
       "    <tr>\n",
       "        <td style=\"padding-left: 1em; padding-right: 1em; text-align: center; vertical-align: top\">107</td>\n",
       "        <td style=\"padding-left: 1em; padding-right: 1em; text-align: center; vertical-align: top\">Height: 32 Width: 32</td>\n",
       "        <td style=\"padding-left: 1em; padding-right: 1em; text-align: center; vertical-align: top\">dog</td>\n",
       "        <td style=\"padding-left: 1em; padding-right: 1em; text-align: center; vertical-align: top\">[0.0, 0.0,<br>0.220677852631, 0.0,  ...</td>\n",
       "        <td style=\"padding-left: 1em; padding-right: 1em; text-align: center; vertical-align: top\">[97.0, 51.0, 31.0, 104.0,<br>58.0, 38.0, 107.0, 61.0, ...</td>\n",
       "    </tr>\n",
       "    <tr>\n",
       "        <td style=\"padding-left: 1em; padding-right: 1em; text-align: center; vertical-align: top\">121</td>\n",
       "        <td style=\"padding-left: 1em; padding-right: 1em; text-align: center; vertical-align: top\">Height: 32 Width: 32</td>\n",
       "        <td style=\"padding-left: 1em; padding-right: 1em; text-align: center; vertical-align: top\">bird</td>\n",
       "        <td style=\"padding-left: 1em; padding-right: 1em; text-align: center; vertical-align: top\">[0.0, 0.23753464222, 0.0,<br>0.0, 0.0, 0.0, ...</td>\n",
       "        <td style=\"padding-left: 1em; padding-right: 1em; text-align: center; vertical-align: top\">[93.0, 96.0, 88.0, 102.0,<br>106.0, 97.0, 117.0, ...</td>\n",
       "    </tr>\n",
       "    <tr>\n",
       "        <td style=\"padding-left: 1em; padding-right: 1em; text-align: center; vertical-align: top\">136</td>\n",
       "        <td style=\"padding-left: 1em; padding-right: 1em; text-align: center; vertical-align: top\">Height: 32 Width: 32</td>\n",
       "        <td style=\"padding-left: 1em; padding-right: 1em; text-align: center; vertical-align: top\">automobile</td>\n",
       "        <td style=\"padding-left: 1em; padding-right: 1em; text-align: center; vertical-align: top\">[0.0, 0.0, 0.0, 0.0, 0.0,<br>0.0, 7.5737862587, 0.0, ...</td>\n",
       "        <td style=\"padding-left: 1em; padding-right: 1em; text-align: center; vertical-align: top\">[35.0, 59.0, 53.0, 36.0,<br>56.0, 56.0, 42.0, 62.0, ...</td>\n",
       "    </tr>\n",
       "    <tr>\n",
       "        <td style=\"padding-left: 1em; padding-right: 1em; text-align: center; vertical-align: top\">138</td>\n",
       "        <td style=\"padding-left: 1em; padding-right: 1em; text-align: center; vertical-align: top\">Height: 32 Width: 32</td>\n",
       "        <td style=\"padding-left: 1em; padding-right: 1em; text-align: center; vertical-align: top\">bird</td>\n",
       "        <td style=\"padding-left: 1em; padding-right: 1em; text-align: center; vertical-align: top\">[0.658935725689, 0.0,<br>0.0, 0.0, 0.0, 0.0, ...</td>\n",
       "        <td style=\"padding-left: 1em; padding-right: 1em; text-align: center; vertical-align: top\">[205.0, 193.0, 195.0,<br>200.0, 187.0, 193.0, ...</td>\n",
       "    </tr>\n",
       "</table>\n",
       "[10 rows x 5 columns]<br/>\n",
       "</div>"
      ],
      "text/plain": [
       "Columns:\n",
       "\tid\tint\n",
       "\timage\tImage\n",
       "\tlabel\tstr\n",
       "\tdeep_features\tarray\n",
       "\timage_array\tarray\n",
       "\n",
       "Rows: 10\n",
       "\n",
       "Data:\n",
       "+-----+----------------------+------------+-------------------------------+\n",
       "|  id |        image         |   label    |         deep_features         |\n",
       "+-----+----------------------+------------+-------------------------------+\n",
       "|  24 | Height: 32 Width: 32 |    bird    | [0.242871761322, 1.0954537... |\n",
       "|  33 | Height: 32 Width: 32 |    cat     | [0.525087952614, 0.0, 0.0,... |\n",
       "|  36 | Height: 32 Width: 32 |    cat     | [0.566015958786, 0.0, 0.0,... |\n",
       "|  70 | Height: 32 Width: 32 |    dog     | [1.12979578972, 0.0, 0.0, ... |\n",
       "|  90 | Height: 32 Width: 32 |    bird    | [1.71786928177, 0.0, 0.0, ... |\n",
       "|  97 | Height: 32 Width: 32 | automobile | [1.57818555832, 0.0, 0.0, ... |\n",
       "| 107 | Height: 32 Width: 32 |    dog     | [0.0, 0.0, 0.220677852631,... |\n",
       "| 121 | Height: 32 Width: 32 |    bird    | [0.0, 0.23753464222, 0.0, ... |\n",
       "| 136 | Height: 32 Width: 32 | automobile | [0.0, 0.0, 0.0, 0.0, 0.0, ... |\n",
       "| 138 | Height: 32 Width: 32 |    bird    | [0.658935725689, 0.0, 0.0,... |\n",
       "+-----+----------------------+------------+-------------------------------+\n",
       "+-------------------------------+\n",
       "|          image_array          |\n",
       "+-------------------------------+\n",
       "| [73.0, 77.0, 58.0, 71.0, 6... |\n",
       "| [7.0, 5.0, 8.0, 7.0, 5.0, ... |\n",
       "| [169.0, 122.0, 65.0, 131.0... |\n",
       "| [154.0, 179.0, 152.0, 159.... |\n",
       "| [216.0, 195.0, 180.0, 201.... |\n",
       "| [33.0, 44.0, 27.0, 29.0, 4... |\n",
       "| [97.0, 51.0, 31.0, 104.0, ... |\n",
       "| [93.0, 96.0, 88.0, 102.0, ... |\n",
       "| [35.0, 59.0, 53.0, 36.0, 5... |\n",
       "| [205.0, 193.0, 195.0, 200.... |\n",
       "+-------------------------------+\n",
       "[10 rows x 5 columns]"
      ]
     },
     "execution_count": 18,
     "metadata": {},
     "output_type": "execute_result"
    }
   ],
   "source": [
    "image_train.head()"
   ]
  },
  {
   "cell_type": "markdown",
   "metadata": {},
   "source": [
    "# Given the Deep Features, let's train a Classifier"
   ]
  },
  {
   "cell_type": "code",
   "execution_count": 21,
   "metadata": {
    "collapsed": false
   },
   "outputs": [
    {
     "name": "stdout",
     "output_type": "stream",
     "text": [
      "PROGRESS: Creating a validation set from 5 percent of training data. This may take a while.\n",
      "          You can set ``validation_set=None`` to disable validation tracking.\n",
      "\n"
     ]
    },
    {
     "data": {
      "text/html": [
       "<pre>WARNING: The number of feature dimensions in this problem is very large in comparison with the number of examples. Unless an appropriate regularization value is set, this model may not provide accurate predictions for a validation/test set.</pre>"
      ],
      "text/plain": [
       "WARNING: The number of feature dimensions in this problem is very large in comparison with the number of examples. Unless an appropriate regularization value is set, this model may not provide accurate predictions for a validation/test set."
      ]
     },
     "metadata": {},
     "output_type": "display_data"
    },
    {
     "data": {
      "text/html": [
       "<pre>WARNING: Detected extremely low variance for feature(s) 'deep_features' because all entries are nearly the same.\n",
       "Proceeding with model training using all features. If the model does not provide results of adequate quality, exclude the above mentioned feature(s) from the input dataset.</pre>"
      ],
      "text/plain": [
       "WARNING: Detected extremely low variance for feature(s) 'deep_features' because all entries are nearly the same.\n",
       "Proceeding with model training using all features. If the model does not provide results of adequate quality, exclude the above mentioned feature(s) from the input dataset."
      ]
     },
     "metadata": {},
     "output_type": "display_data"
    },
    {
     "data": {
      "text/html": [
       "<pre>Logistic regression:</pre>"
      ],
      "text/plain": [
       "Logistic regression:"
      ]
     },
     "metadata": {},
     "output_type": "display_data"
    },
    {
     "data": {
      "text/html": [
       "<pre>--------------------------------------------------------</pre>"
      ],
      "text/plain": [
       "--------------------------------------------------------"
      ]
     },
     "metadata": {},
     "output_type": "display_data"
    },
    {
     "data": {
      "text/html": [
       "<pre>Number of examples          : 1908</pre>"
      ],
      "text/plain": [
       "Number of examples          : 1908"
      ]
     },
     "metadata": {},
     "output_type": "display_data"
    },
    {
     "data": {
      "text/html": [
       "<pre>Number of classes           : 4</pre>"
      ],
      "text/plain": [
       "Number of classes           : 4"
      ]
     },
     "metadata": {},
     "output_type": "display_data"
    },
    {
     "data": {
      "text/html": [
       "<pre>Number of feature columns   : 1</pre>"
      ],
      "text/plain": [
       "Number of feature columns   : 1"
      ]
     },
     "metadata": {},
     "output_type": "display_data"
    },
    {
     "data": {
      "text/html": [
       "<pre>Number of unpacked features : 4096</pre>"
      ],
      "text/plain": [
       "Number of unpacked features : 4096"
      ]
     },
     "metadata": {},
     "output_type": "display_data"
    },
    {
     "data": {
      "text/html": [
       "<pre>Number of coefficients    : 12291</pre>"
      ],
      "text/plain": [
       "Number of coefficients    : 12291"
      ]
     },
     "metadata": {},
     "output_type": "display_data"
    },
    {
     "data": {
      "text/html": [
       "<pre>Starting L-BFGS</pre>"
      ],
      "text/plain": [
       "Starting L-BFGS"
      ]
     },
     "metadata": {},
     "output_type": "display_data"
    },
    {
     "data": {
      "text/html": [
       "<pre>--------------------------------------------------------</pre>"
      ],
      "text/plain": [
       "--------------------------------------------------------"
      ]
     },
     "metadata": {},
     "output_type": "display_data"
    },
    {
     "data": {
      "text/html": [
       "<pre>+-----------+----------+-----------+--------------+-------------------+---------------------+</pre>"
      ],
      "text/plain": [
       "+-----------+----------+-----------+--------------+-------------------+---------------------+"
      ]
     },
     "metadata": {},
     "output_type": "display_data"
    },
    {
     "data": {
      "text/html": [
       "<pre>| Iteration | Passes   | Step size | Elapsed Time | Training-accuracy | Validation-accuracy |</pre>"
      ],
      "text/plain": [
       "| Iteration | Passes   | Step size | Elapsed Time | Training-accuracy | Validation-accuracy |"
      ]
     },
     "metadata": {},
     "output_type": "display_data"
    },
    {
     "data": {
      "text/html": [
       "<pre>+-----------+----------+-----------+--------------+-------------------+---------------------+</pre>"
      ],
      "text/plain": [
       "+-----------+----------+-----------+--------------+-------------------+---------------------+"
      ]
     },
     "metadata": {},
     "output_type": "display_data"
    },
    {
     "data": {
      "text/html": [
       "<pre>| 1         | 5        | 0.000131  | 2.349747     | 0.751048          | 0.701031            |</pre>"
      ],
      "text/plain": [
       "| 1         | 5        | 0.000131  | 2.349747     | 0.751048          | 0.701031            |"
      ]
     },
     "metadata": {},
     "output_type": "display_data"
    },
    {
     "data": {
      "text/html": [
       "<pre>| 2         | 9        | 0.250000  | 4.540572     | 0.766247          | 0.742268            |</pre>"
      ],
      "text/plain": [
       "| 2         | 9        | 0.250000  | 4.540572     | 0.766247          | 0.742268            |"
      ]
     },
     "metadata": {},
     "output_type": "display_data"
    },
    {
     "data": {
      "text/html": [
       "<pre>| 3         | 10       | 0.250000  | 5.222887     | 0.772537          | 0.762887            |</pre>"
      ],
      "text/plain": [
       "| 3         | 10       | 0.250000  | 5.222887     | 0.772537          | 0.762887            |"
      ]
     },
     "metadata": {},
     "output_type": "display_data"
    },
    {
     "data": {
      "text/html": [
       "<pre>| 4         | 11       | 0.250000  | 5.883652     | 0.779874          | 0.783505            |</pre>"
      ],
      "text/plain": [
       "| 4         | 11       | 0.250000  | 5.883652     | 0.779874          | 0.783505            |"
      ]
     },
     "metadata": {},
     "output_type": "display_data"
    },
    {
     "data": {
      "text/html": [
       "<pre>| 5         | 12       | 0.250000  | 6.698819     | 0.784591          | 0.783505            |</pre>"
      ],
      "text/plain": [
       "| 5         | 12       | 0.250000  | 6.698819     | 0.784591          | 0.783505            |"
      ]
     },
     "metadata": {},
     "output_type": "display_data"
    },
    {
     "data": {
      "text/html": [
       "<pre>| 6         | 13       | 0.250000  | 7.501454     | 0.796122          | 0.783505            |</pre>"
      ],
      "text/plain": [
       "| 6         | 13       | 0.250000  | 7.501454     | 0.796122          | 0.783505            |"
      ]
     },
     "metadata": {},
     "output_type": "display_data"
    },
    {
     "data": {
      "text/html": [
       "<pre>| 7         | 14       | 0.250000  | 8.339683     | 0.813941          | 0.783505            |</pre>"
      ],
      "text/plain": [
       "| 7         | 14       | 0.250000  | 8.339683     | 0.813941          | 0.783505            |"
      ]
     },
     "metadata": {},
     "output_type": "display_data"
    },
    {
     "data": {
      "text/html": [
       "<pre>| 8         | 15       | 0.250000  | 9.106221     | 0.838574          | 0.824742            |</pre>"
      ],
      "text/plain": [
       "| 8         | 15       | 0.250000  | 9.106221     | 0.838574          | 0.824742            |"
      ]
     },
     "metadata": {},
     "output_type": "display_data"
    },
    {
     "data": {
      "text/html": [
       "<pre>| 9         | 16       | 0.250000  | 9.924397     | 0.852201          | 0.804124            |</pre>"
      ],
      "text/plain": [
       "| 9         | 16       | 0.250000  | 9.924397     | 0.852201          | 0.804124            |"
      ]
     },
     "metadata": {},
     "output_type": "display_data"
    },
    {
     "data": {
      "text/html": [
       "<pre>| 10        | 17       | 0.250000  | 10.700963    | 0.863208          | 0.824742            |</pre>"
      ],
      "text/plain": [
       "| 10        | 17       | 0.250000  | 10.700963    | 0.863208          | 0.824742            |"
      ]
     },
     "metadata": {},
     "output_type": "display_data"
    },
    {
     "data": {
      "text/html": [
       "<pre>+-----------+----------+-----------+--------------+-------------------+---------------------+</pre>"
      ],
      "text/plain": [
       "+-----------+----------+-----------+--------------+-------------------+---------------------+"
      ]
     },
     "metadata": {},
     "output_type": "display_data"
    },
    {
     "data": {
      "text/html": [
       "<pre>TERMINATED: Iteration limit reached.</pre>"
      ],
      "text/plain": [
       "TERMINATED: Iteration limit reached."
      ]
     },
     "metadata": {},
     "output_type": "display_data"
    },
    {
     "data": {
      "text/html": [
       "<pre>This model may not be optimal. To improve it, consider increasing `max_iterations`.</pre>"
      ],
      "text/plain": [
       "This model may not be optimal. To improve it, consider increasing `max_iterations`."
      ]
     },
     "metadata": {},
     "output_type": "display_data"
    }
   ],
   "source": [
    "deep_features_model=graphlab.logistic_classifier.create(image_train,\n",
    "                                                       features=['deep_features'],\n",
    "                                                       target='label')"
   ]
  },
  {
   "cell_type": "markdown",
   "metadata": {},
   "source": [
    "# Apply the Deep Features model to first few images of test set"
   ]
  },
  {
   "cell_type": "code",
   "execution_count": 23,
   "metadata": {
    "collapsed": false
   },
   "outputs": [
    {
     "name": "stdout",
     "output_type": "stream",
     "text": [
      "Canvas is accessible via web browser at the URL: http://localhost:65534/index.html\n",
      "Opening Canvas in default web browser.\n"
     ]
    }
   ],
   "source": [
    "image_test[0:3]['image'].show()"
   ]
  },
  {
   "cell_type": "code",
   "execution_count": 24,
   "metadata": {
    "collapsed": false
   },
   "outputs": [
    {
     "data": {
      "text/plain": [
       "dtype: str\n",
       "Rows: 3\n",
       "['cat', 'automobile', 'cat']"
      ]
     },
     "execution_count": 24,
     "metadata": {},
     "output_type": "execute_result"
    }
   ],
   "source": [
    "deep_features_model.predict(image_test[0:3])"
   ]
  },
  {
   "cell_type": "markdown",
   "metadata": {},
   "source": [
    "# Compute test data Accuracy for Deep_Features Model"
   ]
  },
  {
   "cell_type": "code",
   "execution_count": 25,
   "metadata": {
    "collapsed": false
   },
   "outputs": [
    {
     "data": {
      "text/plain": [
       "{'accuracy': 0.78575, 'auc': 0.939818374999998, 'confusion_matrix': Columns:\n",
       " \ttarget_label\tstr\n",
       " \tpredicted_label\tstr\n",
       " \tcount\tint\n",
       " \n",
       " Rows: 16\n",
       " \n",
       " Data:\n",
       " +--------------+-----------------+-------+\n",
       " | target_label | predicted_label | count |\n",
       " +--------------+-----------------+-------+\n",
       " |     dog      |    automobile   |   20  |\n",
       " |     bird     |       bird      |  790  |\n",
       " |  automobile  |       bird      |   25  |\n",
       " |     dog      |       bird      |   42  |\n",
       " |     cat      |    automobile   |   39  |\n",
       " |     cat      |       cat       |  688  |\n",
       " |     bird     |       cat       |  124  |\n",
       " |     cat      |       dog       |  201  |\n",
       " |     dog      |       dog       |  707  |\n",
       " |  automobile  |    automobile   |  958  |\n",
       " +--------------+-----------------+-------+\n",
       " [16 rows x 3 columns]\n",
       " Note: Only the head of the SFrame is printed.\n",
       " You can use print_rows(num_rows=m, num_columns=n) to print more rows and columns., 'f1_score': 0.7856996389821715, 'log_loss': 0.5692513254250292, 'precision': 0.7867807095299971, 'recall': 0.78575, 'roc_curve': Columns:\n",
       " \tthreshold\tfloat\n",
       " \tfpr\tfloat\n",
       " \ttpr\tfloat\n",
       " \tp\tint\n",
       " \tn\tint\n",
       " \tclass\tint\n",
       " \n",
       " Rows: 400004\n",
       " \n",
       " Data:\n",
       " +-----------+----------------+-----+------+------+-------+\n",
       " | threshold |      fpr       | tpr |  p   |  n   | class |\n",
       " +-----------+----------------+-----+------+------+-------+\n",
       " |    0.0    |      1.0       | 1.0 | 1000 | 3000 |   0   |\n",
       " |   1e-05   |     0.972      | 1.0 | 1000 | 3000 |   0   |\n",
       " |   2e-05   | 0.962666666667 | 1.0 | 1000 | 3000 |   0   |\n",
       " |   3e-05   | 0.951666666667 | 1.0 | 1000 | 3000 |   0   |\n",
       " |   4e-05   | 0.948333333333 | 1.0 | 1000 | 3000 |   0   |\n",
       " |   5e-05   | 0.942666666667 | 1.0 | 1000 | 3000 |   0   |\n",
       " |   6e-05   | 0.937333333333 | 1.0 | 1000 | 3000 |   0   |\n",
       " |   7e-05   | 0.933333333333 | 1.0 | 1000 | 3000 |   0   |\n",
       " |   8e-05   |      0.93      | 1.0 | 1000 | 3000 |   0   |\n",
       " |   9e-05   |     0.927      | 1.0 | 1000 | 3000 |   0   |\n",
       " +-----------+----------------+-----+------+------+-------+\n",
       " [400004 rows x 6 columns]\n",
       " Note: Only the head of the SFrame is printed.\n",
       " You can use print_rows(num_rows=m, num_columns=n) to print more rows and columns.}"
      ]
     },
     "execution_count": 25,
     "metadata": {},
     "output_type": "execute_result"
    }
   ],
   "source": [
    "deep_features_model.evaluate(image_test)"
   ]
  },
  {
   "cell_type": "code",
   "execution_count": null,
   "metadata": {
    "collapsed": true
   },
   "outputs": [],
   "source": []
  }
 ],
 "metadata": {
  "kernelspec": {
   "display_name": "Python 2",
   "language": "python",
   "name": "python2"
  },
  "language_info": {
   "codemirror_mode": {
    "name": "ipython",
    "version": 2
   },
   "file_extension": ".py",
   "mimetype": "text/x-python",
   "name": "python",
   "nbconvert_exporter": "python",
   "pygments_lexer": "ipython2",
   "version": "2.7.11"
  }
 },
 "nbformat": 4,
 "nbformat_minor": 0
}
